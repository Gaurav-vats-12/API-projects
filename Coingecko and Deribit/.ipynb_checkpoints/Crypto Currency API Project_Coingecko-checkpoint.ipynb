{
 "cells": [
  {
   "cell_type": "markdown",
   "metadata": {},
   "source": [
    "# Crypto Currency API Project\n",
    "## Perodically Extract\n",
    "* Create a system which periodically extracts, updates and store the **list of crypto exchanges** from https://www.coingecko.com/en/exchanges\n",
    "* Apply country and type filter\n",
    "    * **Country:** Australia, Croatia, Cyprus, Czech Republic, Estonia, Hong Kong, Ireland, Japan, Malta, Netherlands, Norway, Poland, Singapore, South Korea, Switzerland, United Kingdom, United States\n",
    "    * **Type:** Centralized\n",
    "* Find all the **currencies that are available on the filtered exchanges** (Use Coinmarketcap.com and Coingecko.com for the same)\n",
    "* Create a system that will check and update the number of **filtered exchanges each of the following coins** is listed on:\n",
    "    * Bitcoin\n",
    "    * Ethereum\n",
    "    * Litecoin\n",
    "    * NEO\n",
    "    * Stellar\n",
    "    * Ethereum Classic"
   ]
  },
  {
   "cell_type": "markdown",
   "metadata": {},
   "source": [
    "### Before we begin\n",
    "\n",
    "From this [source](https://news.bitcoin.com/the-number-of-cryptocurrency-exchanges-has-exploded/) we know that there are about 500 crpyto currency exchanges in the world.\n",
    "\n",
    "* On [Coinhills](https://www.coinhills.com/market/exchange/) there are about 224 exchanges and 2,000 (5,521) currencies.\n",
    "* On [CoinMarketCap](https://coinmarketcap.com/) there are about 263 exchanges and 2,440 currencies.\n",
    "* On [CoinGecko](https://www.coingecko.com/en/exchanges) there are about 369 exchanges and 5,410 coins.\n",
    "\n",
    "Further research on CoinGecko on how the list of exchanges have grown on CoinGecko, since this is the website we would be focusing on for this task ([source](https://bit.ly/CoinGecko-2019-Q2-Report)).\n",
    "\n",
    "<img src=\"files/image.png\">\n",
    "\n",
    "We would be mostly using [CoinGecko's API Wrapper](https://github.com/man-c/pycoingecko) for this task."
   ]
  },
  {
   "cell_type": "markdown",
   "metadata": {},
   "source": [
    "### Let's begin..."
   ]
  },
  {
   "cell_type": "code",
   "execution_count": 1,
   "metadata": {},
   "outputs": [],
   "source": [
    "# Importing packages\n",
    "from selenium.webdriver.common.action_chains import ActionChains\n",
    "import pandas as pd, requests, json, selenium, time\n",
    "from pycoingecko import CoinGeckoAPI\n",
    "from selenium import webdriver\n",
    "from bs4 import BeautifulSoup"
   ]
  },
  {
   "cell_type": "code",
   "execution_count": 2,
   "metadata": {},
   "outputs": [
    {
     "data": {
      "text/plain": [
       "[{'id': 'kraken',\n",
       "  'name': 'Kraken',\n",
       "  'year_established': 2011,\n",
       "  'country': 'United States',\n",
       "  'description': None,\n",
       "  'url': 'https://www.kraken.com/en-us',\n",
       "  'image': 'https://assets.coingecko.com/markets/images/29/small/kraken.jpg?1519460351',\n",
       "  'has_trading_incentive': False,\n",
       "  'trust_score': 10,\n",
       "  'trust_score_rank': 1,\n",
       "  'trade_volume_24h_btc': 5763.565946758953,\n",
       "  'trade_volume_24h_btc_normalized': 5740.276531712762},\n",
       " {'id': 'bitfinex',\n",
       "  'name': 'Bitfinex',\n",
       "  'year_established': 2014,\n",
       "  'country': 'British Virgin Islands',\n",
       "  'description': None,\n",
       "  'url': 'https://www.bitfinex.com',\n",
       "  'image': 'https://assets.coingecko.com/markets/images/4/small/bitfinex.jpg?1519355988',\n",
       "  'has_trading_incentive': None,\n",
       "  'trust_score': 10,\n",
       "  'trust_score_rank': 2,\n",
       "  'trade_volume_24h_btc': 5068.1704269330485,\n",
       "  'trade_volume_24h_btc_normalized': 5068.1704269330485},\n",
       " {'id': 'kucoin',\n",
       "  'name': 'KuCoin',\n",
       "  'year_established': 2014,\n",
       "  'country': 'Seychelles',\n",
       "  'description': '',\n",
       "  'url': 'https://www.kucoin.com/',\n",
       "  'image': 'https://assets.coingecko.com/markets/images/61/small/kucoin.jpg?1519714368',\n",
       "  'has_trading_incentive': False,\n",
       "  'trust_score': 10,\n",
       "  'trust_score_rank': 3,\n",
       "  'trade_volume_24h_btc': 3888.4461010325012,\n",
       "  'trade_volume_24h_btc_normalized': 3831.4420729383573},\n",
       " {'id': 'gate',\n",
       "  'name': 'Gate.io',\n",
       "  'year_established': None,\n",
       "  'country': 'Hong Kong',\n",
       "  'description': '',\n",
       "  'url': 'https://gate.io/',\n",
       "  'image': 'https://assets.coingecko.com/markets/images/60/small/gateio.jpg?1519793974',\n",
       "  'has_trading_incentive': False,\n",
       "  'trust_score': 10,\n",
       "  'trust_score_rank': 4,\n",
       "  'trade_volume_24h_btc': 2414.156767447568,\n",
       "  'trade_volume_24h_btc_normalized': 2052.4262984737297}]"
      ]
     },
     "execution_count": 2,
     "metadata": {},
     "output_type": "execute_result"
    }
   ],
   "source": [
    "# Let's explore get_exchanges_list API wrapper\n",
    "cg = CoinGeckoAPI()\n",
    "exchanges_list = cg.get_exchanges_list()\n",
    "exchanges_list[0:4]"
   ]
  },
  {
   "cell_type": "markdown",
   "metadata": {},
   "source": [
    "For the sub task 1 we get the name of the country, however we don't get the type of exchange i.e. whether it's centralized or decentralized. For 'Vinex' we see that it's mentioned in the description. Exploring more on [request URL](https://api.coingecko.com/api/v3/exchanges) we see there are 4 mentions for centralized and 2 mentions for decentralized exchanges, which is not enough.\n",
    "\n",
    "### Extract list of exchanges (along with id) and country from the above `exchanges_list`"
   ]
  },
  {
   "cell_type": "code",
   "execution_count": 3,
   "metadata": {},
   "outputs": [],
   "source": [
    "# Get list of exchanges\n",
    "def get_list_of_exchanges():\n",
    "    cg = CoinGeckoAPI()\n",
    "    exchanges_list = cg.get_exchanges_list()\n",
    "    get_exchanges_id = []\n",
    "    get_exchanges_list = []\n",
    "    get_exchanges_country = []\n",
    "\n",
    "    # Converting the 'exchanges_list' to a dictionary.\n",
    "    exchanges_list = {item['name']:item for item in exchanges_list}\n",
    "\n",
    "    for k, v in exchanges_list.items():\n",
    "        get_exchanges_id.append(v['id'])\n",
    "        get_exchanges_list.append(v['name'])\n",
    "        get_exchanges_country.append(v['country'])\n",
    "        \n",
    "    get_exchanges = pd.DataFrame([get_exchanges_id, get_exchanges_list, get_exchanges_country], \n",
    "                             index = ['ID', 'Exchange', 'Country']).T\n",
    "    \n",
    "    return get_exchanges"
   ]
  },
  {
   "cell_type": "code",
   "execution_count": 4,
   "metadata": {},
   "outputs": [
    {
     "name": "stdout",
     "output_type": "stream",
     "text": [
      "(100, 3)\n",
      "         ID  Exchange                 Country\n",
      "0    kraken    Kraken           United States\n",
      "1  bitfinex  Bitfinex  British Virgin Islands\n",
      "2    kucoin    KuCoin              Seychelles\n",
      "3      gate   Gate.io               Hong Kong\n",
      "4  poloniex  Poloniex           United States\n"
     ]
    }
   ],
   "source": [
    "exchanges = get_list_of_exchanges()\n",
    "\n",
    "print(exchanges.shape)\n",
    "print(exchanges.head())"
   ]
  },
  {
   "cell_type": "markdown",
   "metadata": {},
   "source": [
    "Using Coin Gecko API Wrapper we get **~300** exchanges (which keeps changing) whereas the website mentioned 369 exchanges. Checking for the differences."
   ]
  },
  {
   "cell_type": "code",
   "execution_count": 5,
   "metadata": {
    "scrolled": false
   },
   "outputs": [
    {
     "name": "stdout",
     "output_type": "stream",
     "text": [
      "386 \n",
      "\n",
      " {'Paro Exchange', 'OpenLedger DEX', 'Coinpark', 'CITEX', 'Binance JEX (Futures)', 'Bitfex', 'EOSex', 'OTCBTC', 'FatBTC', 'Coinmetro', 'SatowalletEx', 'Whitebit', 'CoinAll', 'DDEX', 'Everbloom', 'Bitshares Assets', 'Bitinfi', 'CoinBene', 'Paymium', 'Beaxy', 'MXC', 'Coinsuper', 'BiHODL ', 'Upbit Indonesia ', 'Dobitrade', 'Fisco', 'Exrates', 'Saturn Network', 'Vbitex', 'SouthXchange', 'Bitc3', 'Letsdocoinz', 'Dex-Trade', 'AlterDice', 'Bgogo', 'COSS', 'LocalTrade', 'OEX', 'ExMarkets', '9coin', 'TRXMarket', 'Bisq', 'Bitz Futures', 'BTSE', 'BitRabbit', 'BIG markets', 'Bione', 'F1CX', 'Huobi Korea', 'Cryptology', 'CoinAsset', 'BITEXBOOK', 'Velic', 'Coinfinit', 'Coingi', 'CODEX', 'Waves Platform', 'Birake', 'CryTrEx', 'Bilaxy', 'CCXCanada', 'Cryptonit', 'Simex', 'Aphelion', 'Binance Futures', 'Worldcore', 'Coinfalcon', 'Orderbook.io', 'BTCC', 'Newdex', 'Braziliex', 'Coinplace', 'IncoreX', 'Atomars', 'Paribu', 'Dakuce', 'Cobinhood', 'Raisex', 'Ironex', 'Altmarkets', 'MercuriEx', 'Blockonix', 'CoinEgg', 'TOKOK', 'Chainrift', 'Ore BZ', 'Cybex DEX', 'Synthetix Exchange', 'Freiexchange', 'ThinkBit Pro', 'WhaleEx', '6x', 'DigitalPrice', 'Bithumb Singapore', 'Allcoin', 'OKEx (Futures)', 'Coinlim', 'Huobi Japan', 'Tidebit', 'Infinity Coin', 'Koinok', 'C-Patex', 'FTX', 'GMO Japan (Futures)', 'Unnamed', 'Swiftex', 'Piexgo', 'CPDAX', 'IDCM', 'Satang Pro', 'C-CEX', 'BitStorage', 'Allbit', 'BITKER', 'Delta Exchange', 'Bit2c', 'CoinNest', 'ZG.TOP', 'Negociecoins', 'Bitsoda', 'Bitmex', 'GDAC', 'Trade Satoshi', 'ANX', 'Mercatox', 'KAiREX', 'SecondBTC', 'Ice3x', 'Graviex', 'Bitcoin.com', 'Bamboo Relay', 'ZG.com', 'BTCEXA', 'CHAOEX', 'CryptalDash', 'CryptoBridge', 'Cashierest', 'BX Thailand', 'Coinbe', 'Eterbase', 'C2CX', 'Cashpayz', 'Coinchangex', 'COINX.PRO', 'Escodex', 'Btc Exchange', 'CoinFLEX (Futures)', 'Hb.top', 'Ecxx', 'QBTC', 'Lykke', 'Radar Relay', 'BCEX', 'Koinx', 'NLexch', 'BitKonan', 'Bitmesh', 'Coinhub', 'HPX', 'BTCBOX', 'Shangya Exchange', 'Neblidex', 'Tux Exchange', 'NovaDAX', 'XT', 'AirSwap', 'Neraex', 'CoinJar Exchange', 'Bitbegin', 'BTSE (Futures)', 'Nanu Exchange', 'LakeBTC', 'Txbit', 'Gibraltar Blockchain Exchange', 'EXNCE', 'Nash', 'B2BX', 'Deribit', 'Altilly', 'BitHash', 'ExtStock', 'Mandala', 'BTCSquare', 'Bitsonic', 'Tokenomy', 'Hubi', 'Sistemkoin', 'Bitex.la', 'DEx.top', 'CoinHe', 'AXNET', 'Ethex', 'Oceanex', 'Bits Blockchain', 'Token.Store', 'BOA Exchange', 'BuyUcoin', 'FEX', 'StakeCube', 'Nexybit', 'GetBTC', 'Coinsbank', 'Bitalong', 'Bitflyer Futures', 'Bithumb Global', 'Huobi DM', 'StellarTerm', 'Bybit', 'Troca.Ninja', 'Coinbit', 'CredoEx', 'SatoExchange', 'Novadex', 'Bitci', 'Cryptex', 'CoinDirect', 'CBX', 'SafeTrade', 'CoinEx', 'Binance Jersey', 'FUBT', 'Bancor Network', 'Catex', 'Joyso', 'Coinfield', 'BitAsset', 'TokensNet', 'Gobaba', 'Dach Exchange', 'Uniswap', 'CRXzone', 'Coineal', 'Kumex', 'Vinex', 'xFutures', 'KKEX', 'FinanceX', 'Trade.io', 'BTC Trade UA', 'TopBTC', 'Zebpay', 'BTCNEXT', 'Dflow', 'Prime XBT', 'EtherFlyer', 'bleutrade', 'OOOBTC', 'Bitoffer', 'Kyber Network', 'BitOnBay', 'Idex', 'qTrade', 'Gate.io (Futures)', 'Daybit', 'COINBIG', 'ACX', 'Kraken (Futures)', 'Coinzest', 'Kryptono', 'TronTrade', 'ZB Mega', 'CoinMex', 'TokenJar', 'STEX', 'ForkDelta', 'Bitforex Futures', '3XBIT', 'ABCC', 'Yunex.io', 'Rfinex', 'UEX', 'Instant Bitex', 'BITBOX', 'KKCoin', 'ChainEX', 'Cezex', 'Bitexlive', 'BTC-Alpha', 'dYdX', 'OasisDEX', 'OmniTrade', 'Vebitcoin', 'Purcow', 'Tokpie', 'CoinFLEX', 'Bitsten'} \n",
      "\n",
      " 286\n"
     ]
    }
   ],
   "source": [
    "# Using another wrapper from Coin Gecko to get List of all supported markets id and name\n",
    "exchanges_id_name = cg.get_exchanges_id_name_list()\n",
    "exchanges_id_name = {item['name']:item for item in exchanges_id_name}\n",
    "\n",
    "get_names = []\n",
    "for k, v in exchanges_id_name.items():\n",
    "    get_names.append(v['name'])\n",
    "\n",
    "# Checking the differences in both the lists\n",
    "diff = set(get_names) - set(exchanges['Exchange'].tolist())\n",
    "\n",
    "print(len(get_names), '\\n\\n', diff, '\\n\\n', len(diff))"
   ]
  },
  {
   "cell_type": "markdown",
   "metadata": {},
   "source": [
    "Most of the aboves there are those where '24h Volume (Normalized)', '24h Volume', 'Visits (SimilarWeb)', 'Coins', and 'Pairs' are 0s. As of now, for the first subtasks, we have list of exchanges (along with id) and country in `get_exchanges` dataframe."
   ]
  },
  {
   "cell_type": "markdown",
   "metadata": {},
   "source": [
    "### Create a function that would get the status updates of the exchanges"
   ]
  },
  {
   "cell_type": "code",
   "execution_count": 6,
   "metadata": {},
   "outputs": [],
   "source": [
    "# def get_exchange_updates():\n",
    "#     exchanges_status_updates = {}\n",
    "#     cg = CoinGeckoAPI()\n",
    "#     for ids in exchanges['ID'].tolist():\n",
    "#         try: exchanges_status_updates[ids] = cg.get_exchanges_status_updates_by_id(id = ids)\n",
    "#         except: pass\n",
    "        \n",
    "#     return exchanges_status_updates\n",
    "\n",
    "# exchanges_status_updates = get_exchange_updates()\n",
    "# print(len(exchanges_status_updates.keys()), '\\n', {k: exchanges_status_updates[k] for k in list(exchanges_status_updates)[:2]})"
   ]
  },
  {
   "cell_type": "markdown",
   "metadata": {},
   "source": [
    "### Filter by list of countries"
   ]
  },
  {
   "cell_type": "code",
   "execution_count": 7,
   "metadata": {},
   "outputs": [
    {
     "data": {
      "text/plain": [
       "United States     8\n",
       "United Kingdom    7\n",
       "South Korea       7\n",
       "Japan             6\n",
       "Singapore         6\n",
       "Estonia           6\n",
       "Malta             5\n",
       "Hong Kong         4\n",
       "Australia         3\n",
       "Switzerland       2\n",
       "Cyprus            1\n",
       "Poland            1\n",
       "Name: Country, dtype: int64"
      ]
     },
     "execution_count": 7,
     "metadata": {},
     "output_type": "execute_result"
    }
   ],
   "source": [
    "# Since we're only interested in the selected list of countries\n",
    "list_selected_countries = ['Australia', 'Croatia', 'Cyprus', 'Czech Republic', 'Estonia', 'Hong Kong', \n",
    "                     'Ireland', 'Japan', 'Malta', 'Netherlands', 'Norway', 'Poland', 'Singapore', \n",
    "                     'South Korea', 'Switzerland', 'United Kingdom', 'United States']\n",
    "\n",
    "filtered_exchanges = exchanges[exchanges['Country'].isin(list_selected_countries)]\n",
    "filtered_exchanges['Country'].value_counts()"
   ]
  },
  {
   "cell_type": "markdown",
   "metadata": {},
   "source": [
    "No Ireland exchanges currently on Coin Gecko.\n",
    "\n",
    "### Scrape the 'type' using 'BeautifulSoup' from the spot and futures exchange urls"
   ]
  },
  {
   "cell_type": "code",
   "execution_count": 8,
   "metadata": {},
   "outputs": [],
   "source": [
    "def get_spot_records(url = 'https://www.coingecko.com/en/exchanges?view=social'):\n",
    "    '''\n",
    "    Function to extract list of spot exchanges from the url along with the type\n",
    "    '''\n",
    "    html_spot = requests.get(url).text\n",
    "    soup_spot = BeautifulSoup(html_spot, 'html.parser')\n",
    "    s_records = []\n",
    "    for contents in soup_spot.find('table', class_ = 'sort table mb-0 text-sm text-lg-normal table-scrollable').find_all('a'):\n",
    "        name_of_exchange = contents.text.strip()\n",
    "        name_of_type = contents.find_next('small').contents[0].strip()\n",
    "        s_records.append((name_of_exchange, name_of_type))       \n",
    "    return s_records\n",
    "\n",
    "def get_futures_records(url = 'https://www.coingecko.com/en/exchanges/futures?view=social'):   \n",
    "    '''\n",
    "    Function to extract list of futures exchanges from the url along with type\n",
    "    '''\n",
    "    html_futures = requests.get(url).text\n",
    "    soup_futures = BeautifulSoup(html_futures, 'html.parser')\n",
    "    f_records = []\n",
    "    for contents in soup_futures.find('table', \n",
    "                                      class_ = 'sort table mb-0 text-sm text-lg-normal table-scrollable').find_all('a'):\n",
    "        name_of_exchange = contents.text.strip()\n",
    "        name_of_type = contents.find_next('small').contents[0].strip()\n",
    "        f_records.append((name_of_exchange, name_of_type))   \n",
    "    return f_records\n",
    "\n",
    "if __name__ == '__main__':\n",
    "    s_records, f_records = get_spot_records(), get_futures_records()\n",
    "    s_records = pd.DataFrame(s_records, columns = ['Exchange', 'Type'])\n",
    "    f_records = pd.DataFrame(f_records, columns = ['Exchange', 'Type'])\n",
    "    records = pd.concat([s_records, f_records]).reset_index(drop = True)"
   ]
  },
  {
   "cell_type": "markdown",
   "metadata": {},
   "source": [
    "### Merge `filtered_exchanges` and `records` to create a filtered dataframe (by country and type) "
   ]
  },
  {
   "cell_type": "code",
   "execution_count": 9,
   "metadata": {},
   "outputs": [
    {
     "data": {
      "text/html": [
       "<div>\n",
       "<style scoped>\n",
       "    .dataframe tbody tr th:only-of-type {\n",
       "        vertical-align: middle;\n",
       "    }\n",
       "\n",
       "    .dataframe tbody tr th {\n",
       "        vertical-align: top;\n",
       "    }\n",
       "\n",
       "    .dataframe thead th {\n",
       "        text-align: right;\n",
       "    }\n",
       "</style>\n",
       "<table border=\"1\" class=\"dataframe\">\n",
       "  <thead>\n",
       "    <tr style=\"text-align: right;\">\n",
       "      <th></th>\n",
       "      <th>ID</th>\n",
       "      <th>Exchange</th>\n",
       "      <th>Country</th>\n",
       "      <th>Type</th>\n",
       "    </tr>\n",
       "  </thead>\n",
       "  <tbody>\n",
       "    <tr>\n",
       "      <td>0</td>\n",
       "      <td>kraken</td>\n",
       "      <td>Kraken</td>\n",
       "      <td>United States</td>\n",
       "      <td>Centralized</td>\n",
       "    </tr>\n",
       "    <tr>\n",
       "      <td>1</td>\n",
       "      <td>gate</td>\n",
       "      <td>Gate.io</td>\n",
       "      <td>Hong Kong</td>\n",
       "      <td>Centralized</td>\n",
       "    </tr>\n",
       "    <tr>\n",
       "      <td>2</td>\n",
       "      <td>poloniex</td>\n",
       "      <td>Poloniex</td>\n",
       "      <td>United States</td>\n",
       "      <td>Centralized</td>\n",
       "    </tr>\n",
       "    <tr>\n",
       "      <td>3</td>\n",
       "      <td>bittrex</td>\n",
       "      <td>Bittrex</td>\n",
       "      <td>United States</td>\n",
       "      <td>Centralized</td>\n",
       "    </tr>\n",
       "    <tr>\n",
       "      <td>4</td>\n",
       "      <td>binance</td>\n",
       "      <td>Binance</td>\n",
       "      <td>Malta</td>\n",
       "      <td>Centralized</td>\n",
       "    </tr>\n",
       "  </tbody>\n",
       "</table>\n",
       "</div>"
      ],
      "text/plain": [
       "         ID  Exchange        Country         Type\n",
       "0    kraken    Kraken  United States  Centralized\n",
       "1      gate   Gate.io      Hong Kong  Centralized\n",
       "2  poloniex  Poloniex  United States  Centralized\n",
       "3   bittrex   Bittrex  United States  Centralized\n",
       "4   binance   Binance          Malta  Centralized"
      ]
     },
     "metadata": {},
     "output_type": "display_data"
    },
    {
     "data": {
      "text/html": [
       "<div>\n",
       "<style scoped>\n",
       "    .dataframe tbody tr th:only-of-type {\n",
       "        vertical-align: middle;\n",
       "    }\n",
       "\n",
       "    .dataframe tbody tr th {\n",
       "        vertical-align: top;\n",
       "    }\n",
       "\n",
       "    .dataframe thead th {\n",
       "        text-align: right;\n",
       "    }\n",
       "</style>\n",
       "<table border=\"1\" class=\"dataframe\">\n",
       "  <thead>\n",
       "    <tr style=\"text-align: right;\">\n",
       "      <th></th>\n",
       "      <th>ID</th>\n",
       "      <th>Exchange</th>\n",
       "      <th>Country</th>\n",
       "      <th>Type</th>\n",
       "    </tr>\n",
       "  </thead>\n",
       "  <tbody>\n",
       "    <tr>\n",
       "      <td>count</td>\n",
       "      <td>55</td>\n",
       "      <td>55</td>\n",
       "      <td>55</td>\n",
       "      <td>55</td>\n",
       "    </tr>\n",
       "    <tr>\n",
       "      <td>unique</td>\n",
       "      <td>55</td>\n",
       "      <td>55</td>\n",
       "      <td>12</td>\n",
       "      <td>1</td>\n",
       "    </tr>\n",
       "    <tr>\n",
       "      <td>top</td>\n",
       "      <td>bitsdaq</td>\n",
       "      <td>Darb Finance</td>\n",
       "      <td>United States</td>\n",
       "      <td>Centralized</td>\n",
       "    </tr>\n",
       "    <tr>\n",
       "      <td>freq</td>\n",
       "      <td>1</td>\n",
       "      <td>1</td>\n",
       "      <td>8</td>\n",
       "      <td>55</td>\n",
       "    </tr>\n",
       "  </tbody>\n",
       "</table>\n",
       "</div>"
      ],
      "text/plain": [
       "             ID      Exchange        Country         Type\n",
       "count        55            55             55           55\n",
       "unique       55            55             12            1\n",
       "top     bitsdaq  Darb Finance  United States  Centralized\n",
       "freq          1             1              8           55"
      ]
     },
     "metadata": {},
     "output_type": "display_data"
    }
   ],
   "source": [
    "filtered_exchanges = filtered_exchanges.merge(records, on = ['Exchange'], how = 'left')\n",
    "\n",
    "filtered_exchanges = filtered_exchanges[filtered_exchanges['Type'].isin(['Centralized'])]\n",
    "\n",
    "display(filtered_exchanges.head(), filtered_exchanges.describe())"
   ]
  },
  {
   "cell_type": "markdown",
   "metadata": {},
   "source": [
    "### Create function to find all the currencies that are available on the filtered exchanges"
   ]
  },
  {
   "cell_type": "code",
   "execution_count": 10,
   "metadata": {
    "scrolled": false
   },
   "outputs": [
    {
     "name": "stdout",
     "output_type": "stream",
     "text": [
      "Get list of coins for ID: kraken\n",
      "Get list of coins for ID: gate\n",
      "Get list of coins for ID: poloniex\n",
      "Get list of coins for ID: bittrex\n",
      "Get list of coins for ID: binance\n",
      "Get list of coins for ID: bithumb\n",
      "Get list of coins for ID: gdax\n",
      "Get list of coins for ID: upbit\n",
      "Get list of coins for ID: bitflyer\n",
      "Get list of coins for ID: bitbank\n",
      "Get list of coins for ID: zaif\n",
      "Get list of coins for ID: huobi_us\n",
      "Get list of coins for ID: bitstamp\n",
      "Get list of coins for ID: hitbtc\n",
      "Get list of coins for ID: coinone\n",
      "Get list of coins for ID: coinsbit\n",
      "Get list of coins for ID: exmo\n",
      "Get list of coins for ID: bitbay\n",
      "Get list of coins for ID: omgfin\n",
      "Get list of coins for ID: gemini\n",
      "Get list of coins for ID: tokenize\n",
      "Get list of coins for ID: luno\n",
      "Get list of coins for ID: btcmarkets\n",
      "Get list of coins for ID: bw\n",
      "Get list of coins for ID: dcoin\n",
      "Get list of coins for ID: coincheck\n",
      "Get list of coins for ID: bitmax\n",
      "Get list of coins for ID: quoine\n",
      "Get list of coins for ID: gopax\n",
      "Get list of coins for ID: korbit\n",
      "Get list of coins for ID: gmo_japan\n",
      "Get list of coins for ID: binance_us\n",
      "Get list of coins for ID: cex\n",
      "Get list of coins for ID: dsx\n",
      "Get list of coins for ID: independent_reserve\n",
      "Get list of coins for ID: darb_finance\n",
      "Get list of coins for ID: iqfinex\n",
      "Get list of coins for ID: cointiger\n",
      "Get list of coins for ID: biki\n",
      "Get list of coins for ID: crex24\n",
      "Get list of coins for ID: finexbox\n",
      "Get list of coins for ID: decoin\n",
      "Get list of coins for ID: okex_korea\n",
      "Get list of coins for ID: itbit\n",
      "Get list of coins for ID: bitlish\n",
      "Get list of coins for ID: dove_wallet\n",
      "Get list of coins for ID: kuna\n",
      "Get list of coins for ID: go_exchange\n",
      "Get list of coins for ID: p2pb2b\n",
      "Get list of coins for ID: coindeal\n",
      "Get list of coins for ID: bitrue\n",
      "Get list of coins for ID: bitsdaq\n",
      "Get list of coins for ID: shortex\n",
      "Get list of coins for ID: bhex\n",
      "Get list of coins for ID: tidex\n"
     ]
    },
    {
     "data": {
      "text/html": [
       "<div>\n",
       "<style scoped>\n",
       "    .dataframe tbody tr th:only-of-type {\n",
       "        vertical-align: middle;\n",
       "    }\n",
       "\n",
       "    .dataframe tbody tr th {\n",
       "        vertical-align: top;\n",
       "    }\n",
       "\n",
       "    .dataframe thead th {\n",
       "        text-align: right;\n",
       "    }\n",
       "</style>\n",
       "<table border=\"1\" class=\"dataframe\">\n",
       "  <thead>\n",
       "    <tr style=\"text-align: right;\">\n",
       "      <th></th>\n",
       "      <th>ID</th>\n",
       "      <th>Exchange</th>\n",
       "      <th>Country</th>\n",
       "      <th>Type</th>\n",
       "      <th>Currency</th>\n",
       "    </tr>\n",
       "  </thead>\n",
       "  <tbody>\n",
       "    <tr>\n",
       "      <td>0</td>\n",
       "      <td>kraken</td>\n",
       "      <td>Kraken</td>\n",
       "      <td>United States</td>\n",
       "      <td>Centralized</td>\n",
       "      <td>[Bitcoin, Ethereum, XRP, Tether, Litecoin, Bit...</td>\n",
       "    </tr>\n",
       "    <tr>\n",
       "      <td>1</td>\n",
       "      <td>gate</td>\n",
       "      <td>Gate.io</td>\n",
       "      <td>Hong Kong</td>\n",
       "      <td>Centralized</td>\n",
       "      <td>[Bitcoin, Ethereum, EOS, SERO, XRP, BlockCDN, ...</td>\n",
       "    </tr>\n",
       "    <tr>\n",
       "      <td>2</td>\n",
       "      <td>poloniex</td>\n",
       "      <td>Poloniex</td>\n",
       "      <td>United States</td>\n",
       "      <td>Centralized</td>\n",
       "      <td>[Bitcoin, XRP, Ethereum, Litecoin, Bitcoin Cas...</td>\n",
       "    </tr>\n",
       "    <tr>\n",
       "      <td>3</td>\n",
       "      <td>bittrex</td>\n",
       "      <td>Bittrex</td>\n",
       "      <td>United States</td>\n",
       "      <td>Centralized</td>\n",
       "      <td>[Bitcoin, XRP, Ethereum, Ravencoin, Bitcoin Ca...</td>\n",
       "    </tr>\n",
       "    <tr>\n",
       "      <td>4</td>\n",
       "      <td>binance</td>\n",
       "      <td>Binance</td>\n",
       "      <td>Malta</td>\n",
       "      <td>Centralized</td>\n",
       "      <td>[Bitcoin, Ethereum, Dock, XRP, Binance Coin, E...</td>\n",
       "    </tr>\n",
       "  </tbody>\n",
       "</table>\n",
       "</div>"
      ],
      "text/plain": [
       "         ID  Exchange        Country         Type  \\\n",
       "0    kraken    Kraken  United States  Centralized   \n",
       "1      gate   Gate.io      Hong Kong  Centralized   \n",
       "2  poloniex  Poloniex  United States  Centralized   \n",
       "3   bittrex   Bittrex  United States  Centralized   \n",
       "4   binance   Binance          Malta  Centralized   \n",
       "\n",
       "                                            Currency  \n",
       "0  [Bitcoin, Ethereum, XRP, Tether, Litecoin, Bit...  \n",
       "1  [Bitcoin, Ethereum, EOS, SERO, XRP, BlockCDN, ...  \n",
       "2  [Bitcoin, XRP, Ethereum, Litecoin, Bitcoin Cas...  \n",
       "3  [Bitcoin, XRP, Ethereum, Ravencoin, Bitcoin Ca...  \n",
       "4  [Bitcoin, Ethereum, Dock, XRP, Binance Coin, E...  "
      ]
     },
     "execution_count": 10,
     "metadata": {},
     "output_type": "execute_result"
    }
   ],
   "source": [
    "def get_ids_coins():\n",
    "    ids_and_coins = {}\n",
    "    for ids in filtered_exchanges['ID'].tolist():\n",
    "        print('Get list of coins for ID: {}'.format(ids))\n",
    "        try:\n",
    "            url = 'https://www.coingecko.com/en/exchanges/' + ids\n",
    "            html_spot = requests.get(url).text\n",
    "            soup_spot = BeautifulSoup(html_spot, 'html.parser')\n",
    "            coins = []\n",
    "            for c in soup_spot.find('table', class_ = 'table table-scrollable').find_all('span', class_ = 'jp-no-break'):\n",
    "                if c.text.strip() in coins: pass\n",
    "                else: coins.append(c.text.strip())\n",
    "                ids_and_coins[ids] = coins\n",
    "        except: ids_and_coins[ids] = 'NA'\n",
    "    ids_and_coins = pd.DataFrame(list(ids_and_coins.items()))\n",
    "    ids_and_coins.columns = ['ID', 'Currency']\n",
    "    return ids_and_coins\n",
    "\n",
    "ids_and_coins = get_ids_coins()\n",
    "filtered_exchanges = filtered_exchanges.merge(ids_and_coins, on = 'ID', how = 'left')\n",
    "filtered_exchanges.head()"
   ]
  },
  {
   "cell_type": "markdown",
   "metadata": {},
   "source": [
    "### Create a function for number of filtered exchanges for the selected list of coins"
   ]
  },
  {
   "cell_type": "code",
   "execution_count": 11,
   "metadata": {},
   "outputs": [
    {
     "data": {
      "text/html": [
       "<div>\n",
       "<style scoped>\n",
       "    .dataframe tbody tr th:only-of-type {\n",
       "        vertical-align: middle;\n",
       "    }\n",
       "\n",
       "    .dataframe tbody tr th {\n",
       "        vertical-align: top;\n",
       "    }\n",
       "\n",
       "    .dataframe thead th {\n",
       "        text-align: right;\n",
       "    }\n",
       "</style>\n",
       "<table border=\"1\" class=\"dataframe\">\n",
       "  <thead>\n",
       "    <tr style=\"text-align: right;\">\n",
       "      <th></th>\n",
       "      <th>IDs</th>\n",
       "      <th>Coin</th>\n",
       "      <th>Exchanges</th>\n",
       "    </tr>\n",
       "  </thead>\n",
       "  <tbody>\n",
       "    <tr>\n",
       "      <td>0</td>\n",
       "      <td>bitcoin</td>\n",
       "      <td>Bitcoin</td>\n",
       "      <td>[bitFlyer, FTX (Spot), Kraken, GMO Japan, Coin...</td>\n",
       "    </tr>\n",
       "    <tr>\n",
       "      <td>1</td>\n",
       "      <td>ethereum</td>\n",
       "      <td>Ethereum</td>\n",
       "      <td>[Binance, Kraken, Huobi US (HBUS), FTX (Spot),...</td>\n",
       "    </tr>\n",
       "    <tr>\n",
       "      <td>2</td>\n",
       "      <td>litecoin</td>\n",
       "      <td>Litecoin</td>\n",
       "      <td>[Binance, Huobi US (HBUS), Coinbase Pro, Krake...</td>\n",
       "    </tr>\n",
       "    <tr>\n",
       "      <td>3</td>\n",
       "      <td>neo</td>\n",
       "      <td>NEO</td>\n",
       "      <td>[Bitfinex, Bittrex, Coinone, KuCoin, Upbit, Ga...</td>\n",
       "    </tr>\n",
       "    <tr>\n",
       "      <td>4</td>\n",
       "      <td>stellar</td>\n",
       "      <td>Stellar</td>\n",
       "      <td>[Bithumb, Coinbase Pro, Upbit, Kraken, Huobi U...</td>\n",
       "    </tr>\n",
       "  </tbody>\n",
       "</table>\n",
       "</div>"
      ],
      "text/plain": [
       "        IDs      Coin                                          Exchanges\n",
       "0   bitcoin   Bitcoin  [bitFlyer, FTX (Spot), Kraken, GMO Japan, Coin...\n",
       "1  ethereum  Ethereum  [Binance, Kraken, Huobi US (HBUS), FTX (Spot),...\n",
       "2  litecoin  Litecoin  [Binance, Huobi US (HBUS), Coinbase Pro, Krake...\n",
       "3       neo       NEO  [Bitfinex, Bittrex, Coinone, KuCoin, Upbit, Ga...\n",
       "4   stellar   Stellar  [Bithumb, Coinbase Pro, Upbit, Kraken, Huobi U..."
      ]
     },
     "execution_count": 11,
     "metadata": {},
     "output_type": "execute_result"
    }
   ],
   "source": [
    "def get_markets_coins():\n",
    "    list_selected_coins = {'bitcoin': 'Bitcoin', 'ethereum': 'Ethereum', \n",
    "                       'litecoin': 'Litecoin', 'neo': 'NEO', 'stellar': 'Stellar', \n",
    "                       'ethereum-classic': 'Ethereum Classic'}\n",
    "    get_tickers = []\n",
    "    for ids in list_selected_coins:\n",
    "        tickers_by_id = requests.get('https://api.coingecko.com/api/v3/coins/{}/tickers'.format(ids))\n",
    "        get_tickers.append(tickers_by_id.json())\n",
    "\n",
    "    get_tickers = {item['name']:item for item in get_tickers}\n",
    "\n",
    "    get_markets = []\n",
    "    for keys, values in get_tickers.items():\n",
    "        v = values['tickers']\n",
    "        get_markets.append(v)\n",
    "\n",
    "    get_markets = pd.DataFrame(get_markets, index = ['Bitcoin', 'Ethereum', 'Litecoin', 'NEO', 'Stellar', 'Ethereum Classic']).T\n",
    "    cols = get_markets.columns.tolist()\n",
    "\n",
    "    markets_coins = {}\n",
    "    for c in cols:\n",
    "        lists = []\n",
    "        for row in get_markets[c]:\n",
    "            if row['market']['name'] in lists: pass\n",
    "            else: lists.append(row['market']['name'])\n",
    "        markets_coins[c] = lists\n",
    "    markets_coins = pd.DataFrame(list(markets_coins.items()), columns = ['Coin', 'Exchanges'])\n",
    "    markets_coins.insert(loc = 0, column = 'IDs', value = list_selected_coins.keys())\n",
    "    return markets_coins\n",
    "\n",
    "markets_coins = get_markets_coins()\n",
    "markets_coins.head()"
   ]
  },
  {
   "cell_type": "markdown",
   "metadata": {},
   "source": [
    "## Extract and store price data for the past one year from [Deribit](https://www.deribit.com/prinx_chart)"
   ]
  },
  {
   "cell_type": "code",
   "execution_count": 12,
   "metadata": {},
   "outputs": [],
   "source": [
    "options = webdriver.ChromeOptions()\n",
    "preferences = {\"download.default_directory\" : \"D:\\\\Pratik Sharma\\\\Machine Learning Repository\\\\API Projects\",\n",
    "               \"safebrowsing.enabled\": False}\n",
    "options.add_experimental_option(\"prefs\", preferences)\n",
    "\n",
    "driver = webdriver.Chrome(options = options, \n",
    "                          executable_path = 'D:\\\\Pratik Sharma\\\\Machine Learning Repository\\\\chromedriver.exe')\n",
    "driver.maximize_window()\n",
    "driver.get('https://www.deribit.com/')\n",
    "\n",
    "driver.find_element_by_xpath(\"\"\"//input[@type = \"email\"]\"\"\").send_keys() #enter\n",
    "driver.find_element_by_xpath(\"\"\"//input[@type = \"password\"]\"\"\").send_keys() #enter\n",
    "\n",
    "driver.find_element_by_name(\"go\").click()\n",
    "\n",
    "time.sleep(30)\n",
    "\n",
    "driver.get('https://www.deribit.com/prinx_chart')\n",
    "\n",
    "element1 = driver.find_element_by_xpath(\"\"\"//button[@title=\"1 year\"]\"\"\")\n",
    "element2 = driver.find_element_by_xpath(\"\"\"//div[@class=\"pull-right context-menu btn-group\"]\"\"\")\n",
    "element3 = driver.find_element_by_xpath(\"\"\"//*[@id=\"chartmenu\"]/li/a\"\"\")\n",
    "\n",
    "hoverover = ActionChains(driver).move_to_element(element1).move_to_element(\n",
    "    element2).move_to_element(element3).click().perform()\n",
    "\n",
    "dateparse = lambda x: pd.datetime.strptime(x, '%Y-%m-%d %H:%M:%S')\n",
    "df = pd.read_csv('2019-10_btc_usd_price_index.csv', low_memory = False, parse_dates = True, header = 1,\n",
    "             date_parser = dateparse)"
   ]
  }
 ],
 "metadata": {
  "hide_input": false,
  "kernelspec": {
   "display_name": "Python 3",
   "language": "python",
   "name": "python3"
  },
  "language_info": {
   "codemirror_mode": {
    "name": "ipython",
    "version": 3
   },
   "file_extension": ".py",
   "mimetype": "text/x-python",
   "name": "python",
   "nbconvert_exporter": "python",
   "pygments_lexer": "ipython3",
   "version": "3.7.4"
  },
  "latex_envs": {
   "LaTeX_envs_menu_present": true,
   "autoclose": false,
   "autocomplete": true,
   "bibliofile": "biblio.bib",
   "cite_by": "apalike",
   "current_citInitial": 1,
   "eqLabelWithNumbers": true,
   "eqNumInitial": 1,
   "hotkeys": {
    "equation": "Ctrl-E",
    "itemize": "Ctrl-I"
   },
   "labels_anchors": false,
   "latex_user_defs": false,
   "report_style_numbering": false,
   "user_envs_cfg": false
  },
  "nbTranslate": {
   "displayLangs": [
    "*"
   ],
   "hotkey": "alt-t",
   "langInMainMenu": true,
   "sourceLang": "en",
   "targetLang": "fr",
   "useGoogleTranslate": true
  },
  "toc": {
   "base_numbering": 1,
   "nav_menu": {},
   "number_sections": true,
   "sideBar": true,
   "skip_h1_title": false,
   "title_cell": "Table of Contents",
   "title_sidebar": "Contents",
   "toc_cell": false,
   "toc_position": {},
   "toc_section_display": true,
   "toc_window_display": true
  },
  "varInspector": {
   "cols": {
    "lenName": 16,
    "lenType": 16,
    "lenVar": 40
   },
   "kernels_config": {
    "python": {
     "delete_cmd_postfix": "",
     "delete_cmd_prefix": "del ",
     "library": "var_list.py",
     "varRefreshCmd": "print(var_dic_list())"
    },
    "r": {
     "delete_cmd_postfix": ") ",
     "delete_cmd_prefix": "rm(",
     "library": "var_list.r",
     "varRefreshCmd": "cat(var_dic_list()) "
    }
   },
   "types_to_exclude": [
    "module",
    "function",
    "builtin_function_or_method",
    "instance",
    "_Feature"
   ],
   "window_display": false
  }
 },
 "nbformat": 4,
 "nbformat_minor": 2
}
